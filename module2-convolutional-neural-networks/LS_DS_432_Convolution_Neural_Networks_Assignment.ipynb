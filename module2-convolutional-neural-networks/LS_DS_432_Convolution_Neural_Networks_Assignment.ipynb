{
  "nbformat": 4,
  "nbformat_minor": 0,
  "metadata": {
    "kernelspec": {
      "display_name": "U4-S2-NNF-DS10",
      "language": "python",
      "name": "u4-s2-nnf-ds10"
    },
    "language_info": {
      "codemirror_mode": {
        "name": "ipython",
        "version": 3
      },
      "file_extension": ".py",
      "mimetype": "text/x-python",
      "name": "python",
      "nbconvert_exporter": "python",
      "pygments_lexer": "ipython3",
      "version": "3.7.6"
    },
    "nteract": {
      "version": "0.23.1"
    },
    "colab": {
      "name": "LS_DS_432_Convolution_Neural_Networks_Assignment.ipynb",
      "provenance": []
    },
    "accelerator": "GPU"
  },
  "cells": [
    {
      "cell_type": "markdown",
      "metadata": {
        "id": "Brh4cBVtHC15",
        "colab_type": "text"
      },
      "source": [
        "<img align=\"left\" src=\"https://lever-client-logos.s3.amazonaws.com/864372b1-534c-480e-acd5-9711f850815c-1524247202159.png\" width=200>\n",
        "<br></br>\n",
        "<br></br>\n",
        "\n",
        "## *Data Science Unit 4 Sprint 3 Assignment 2*\n",
        "# Convolutional Neural Networks (CNNs)"
      ]
    },
    {
      "cell_type": "markdown",
      "metadata": {
        "colab_type": "text",
        "id": "0lfZdD_cp1t5"
      },
      "source": [
        "# Assignment\n",
        "\n",
        "- <a href=\"#p1\">Part 1:</a> Pre-Trained Model\n",
        "- <a href=\"#p2\">Part 2:</a> Custom CNN Model\n",
        "- <a href=\"#p3\">Part 3:</a> CNN with Data Augmentation\n",
        "\n",
        "\n",
        "You will apply three different CNN models to a binary image classification model using Keras. Classify images of Mountains (`./data/train/mountain/*`) and images of forests (`./data/train/forest/*`). Treat mountains as the positive class (1) and the forest images as the negative (zero). \n",
        "\n",
        "|Mountain (+)|Forest (-)|\n",
        "|---|---|\n",
        "|![](https://github.com/anitashar/DS-Unit-4-Sprint-3-Deep-Learning/blob/master/module2-convolutional-neural-networks/data/train/mountain/art1131.jpg?raw=1)|![](https://github.com/anitashar/DS-Unit-4-Sprint-3-Deep-Learning/blob/master/module2-convolutional-neural-networks/data/validation/forest/cdmc317.jpg?raw=1)|\n",
        "\n",
        "The problem is relatively difficult given that the sample is tiny: there are about 350 observations per class. This sample size might be something that you can expect with prototyping an image classification problem/solution at work. Get accustomed to evaluating several different possible models."
      ]
    },
    {
      "cell_type": "markdown",
      "metadata": {
        "colab_type": "text",
        "id": "UwocOBvIHC17"
      },
      "source": [
        "# Pre - Trained Model\n",
        "<a id=\"p1\"></a>\n",
        "\n",
        "Load a pretrained network from Keras, [ResNet50](https://tfhub.dev/google/imagenet/resnet_v1_50/classification/1) - a 50 layer deep network trained to recognize [1000 objects](https://storage.googleapis.com/download.tensorflow.org/data/ImageNetLabels.txt). Starting usage:\n",
        "\n",
        "```python\n",
        "import numpy as np\n",
        "\n",
        "from tensorflow.keras.applications.resnet50 import ResNet50\n",
        "from tensorflow.keras.preprocessing import image\n",
        "from tensorflow.keras.applications.resnet50 import preprocess_input, decode_predictions\n",
        "\n",
        "from tensorflow.keras.layers import Dense, GlobalAveragePooling2D\n",
        "from tensorflow.keras.models import Model # This is the functional API\n",
        "\n",
        "resnet = ResNet50(weights='imagenet', include_top=False)\n",
        "\n",
        "```\n",
        "\n",
        "The `include_top` parameter in `ResNet50` will remove the full connected layers from the ResNet model. The next step is to turn off the training of the ResNet layers. We want to use the learned parameters without updating them in future training passes. \n",
        "\n",
        "```python\n",
        "for layer in resnet.layers:\n",
        "    layer.trainable = False\n",
        "```\n",
        "\n",
        "Using the Keras functional API, we will need to additional additional full connected layers to our model. We we removed the top layers, we removed all preivous fully connected layers. In other words, we kept only the feature processing portions of our network. You can expert with additional layers beyond what's listed here. The `GlobalAveragePooling2D` layer functions as a really fancy flatten function by taking the average of each of the last convolutional layer outputs (which is two dimensional still). \n",
        "\n",
        "```python\n",
        "x = resnet.output\n",
        "x = GlobalAveragePooling2D()(x) # This layer is a really fancy flatten\n",
        "x = Dense(1024, activation='relu')(x)\n",
        "predictions = Dense(1, activation='sigmoid')(x)\n",
        "model = Model(resnet.input, predictions)\n",
        "```\n",
        "\n",
        "Your assignment is to apply the transfer learning above to classify images of Mountains (`./data/train/mountain/*`) and images of forests (`./data/train/forest/*`). Treat mountains as the positive class (1) and the forest images as the negative (zero). \n",
        "\n",
        "Steps to complete assignment: \n",
        "1. Load in Image Data into numpy arrays (`X`) \n",
        "2. Create a `y` for the labels\n",
        "3. Train your model with pre-trained layers from resnet\n",
        "4. Report your model's accuracy"
      ]
    },
    {
      "cell_type": "markdown",
      "metadata": {
        "id": "mIPnFMW6HC18",
        "colab_type": "text"
      },
      "source": [
        "## Load in Data\n",
        "\n",
        "This surprisingly more difficult than it seems, because you are working with directories of images instead of a single file. This boiler plate will help you download a zipped version of the directory of images. The directory is organized into \"train\" and \"validation\" which you can use inside an `ImageGenerator` class to stream batches of images thru your model.  \n"
      ]
    },
    {
      "cell_type": "markdown",
      "metadata": {
        "id": "ShDB0Rs3HC19",
        "colab_type": "text"
      },
      "source": [
        "### Download & Summarize the Data\n",
        "\n",
        "This step is completed for you. Just run the cells and review the results. "
      ]
    },
    {
      "cell_type": "code",
      "metadata": {
        "id": "m2NmUXfdHC1-",
        "colab_type": "code",
        "colab": {
          "base_uri": "https://localhost:8080/",
          "height": 51
        },
        "outputId": "d1626da0-19db-467a-a04e-4fe37cd89c20"
      },
      "source": [
        "import tensorflow as tf\n",
        "import os\n",
        "\n",
        "_URL = 'https://github.com/LambdaSchool/DS-Unit-4-Sprint-3-Deep-Learning/blob/master/module2-convolutional-neural-networks/data.zip?raw=true'\n",
        "\n",
        "path_to_zip = tf.keras.utils.get_file('./data.zip', origin=_URL, extract=True)\n",
        "PATH = os.path.join(os.path.dirname(path_to_zip), 'data')"
      ],
      "execution_count": 1,
      "outputs": [
        {
          "output_type": "stream",
          "text": [
            "Downloading data from https://github.com/LambdaSchool/DS-Unit-4-Sprint-3-Deep-Learning/blob/master/module2-convolutional-neural-networks/data.zip?raw=true\n",
            "42172416/42170838 [==============================] - 0s 0us/step\n"
          ],
          "name": "stdout"
        }
      ]
    },
    {
      "cell_type": "code",
      "metadata": {
        "id": "f-U1nTplHC2G",
        "colab_type": "code",
        "colab": {}
      },
      "source": [
        "train_dir = os.path.join(PATH, 'train')\n",
        "validation_dir = os.path.join(PATH, 'validation')"
      ],
      "execution_count": 0,
      "outputs": []
    },
    {
      "cell_type": "code",
      "metadata": {
        "id": "yH7NgJ3lHC2J",
        "colab_type": "code",
        "colab": {}
      },
      "source": [
        "train_mountain_dir = os.path.join(train_dir, 'mountain')  # directory with our training cat pictures\n",
        "train_forest_dir = os.path.join(train_dir, 'forest')  # directory with our training dog pictures\n",
        "validation_mountain_dir = os.path.join(validation_dir, 'mountain')  # directory with our validation cat pictures\n",
        "validation_forest_dir = os.path.join(validation_dir, 'forest')  # directory with our validation dog pictures"
      ],
      "execution_count": 0,
      "outputs": []
    },
    {
      "cell_type": "code",
      "metadata": {
        "id": "eggfb1VOHC2P",
        "colab_type": "code",
        "colab": {}
      },
      "source": [
        "num_mountain_tr = len(os.listdir(train_mountain_dir))\n",
        "num_forest_tr = len(os.listdir(train_forest_dir))\n",
        "\n",
        "num_mountain_val = len(os.listdir(validation_mountain_dir))\n",
        "num_forest_val = len(os.listdir(validation_forest_dir))\n",
        "\n",
        "total_train = num_mountain_tr + num_forest_tr\n",
        "total_val = num_mountain_val + num_forest_val"
      ],
      "execution_count": 0,
      "outputs": []
    },
    {
      "cell_type": "code",
      "metadata": {
        "id": "ZIsee19lHC2T",
        "colab_type": "code",
        "colab": {
          "base_uri": "https://localhost:8080/",
          "height": 136
        },
        "outputId": "352b1356-49c2-4210-e0ff-d49c84e079a5"
      },
      "source": [
        "print('total training mountain images:', num_mountain_tr)\n",
        "print('total training forest images:', num_forest_tr)\n",
        "\n",
        "print('total validation mountain images:', num_mountain_val)\n",
        "print('total validation forest images:', num_forest_val)\n",
        "print(\"--\")\n",
        "print(\"Total training images:\", total_train)\n",
        "print(\"Total validation images:\", total_val)"
      ],
      "execution_count": 5,
      "outputs": [
        {
          "output_type": "stream",
          "text": [
            "total training mountain images: 254\n",
            "total training forest images: 270\n",
            "total validation mountain images: 125\n",
            "total validation forest images: 62\n",
            "--\n",
            "Total training images: 524\n",
            "Total validation images: 187\n"
          ],
          "name": "stdout"
        }
      ]
    },
    {
      "cell_type": "markdown",
      "metadata": {
        "id": "Vf0KwnmMHC2Y",
        "colab_type": "text"
      },
      "source": [
        "### Keras `ImageGenerator` to Process the Data\n",
        "\n",
        "This step is completed for you, but please review the code. The `ImageGenerator` class reads in batches of data from a directory and pass them to the model one batch at a time. Just like large text files, this method is advantageous, because it stifles the need to load a bunch of images into memory. \n",
        "\n",
        "Check out the documentation for this class method: [Keras `ImageGenerator` Class](https://keras.io/preprocessing/image/#imagedatagenerator-class). You'll expand it's use in the third assignment objective."
      ]
    },
    {
      "cell_type": "code",
      "metadata": {
        "id": "rLQdt_GbHC2Y",
        "colab_type": "code",
        "colab": {}
      },
      "source": [
        "batch_size = 16\n",
        "epochs = 50\n",
        "IMG_HEIGHT = 224\n",
        "IMG_WIDTH = 224"
      ],
      "execution_count": 0,
      "outputs": []
    },
    {
      "cell_type": "code",
      "metadata": {
        "id": "EXVw8HIaHC2f",
        "colab_type": "code",
        "colab": {}
      },
      "source": [
        "from tensorflow.keras.preprocessing.image import ImageDataGenerator\n",
        "\n",
        "train_image_generator = ImageDataGenerator(rescale=1./255) # Generator for our training data\n",
        "validation_image_generator = ImageDataGenerator(rescale=1./255) # Generator for our validation data"
      ],
      "execution_count": 0,
      "outputs": []
    },
    {
      "cell_type": "code",
      "metadata": {
        "id": "H7SoinUvHC2k",
        "colab_type": "code",
        "colab": {
          "base_uri": "https://localhost:8080/",
          "height": 34
        },
        "outputId": "1665c056-025b-418a-fad7-808890f759a5"
      },
      "source": [
        "train_data_gen = train_image_generator.flow_from_directory(batch_size=batch_size,\n",
        "                                                           directory=train_dir,\n",
        "                                                           shuffle=True,\n",
        "                                                           target_size=(IMG_HEIGHT, IMG_WIDTH),\n",
        "                                                           class_mode='binary')"
      ],
      "execution_count": 8,
      "outputs": [
        {
          "output_type": "stream",
          "text": [
            "Found 533 images belonging to 2 classes.\n"
          ],
          "name": "stdout"
        }
      ]
    },
    {
      "cell_type": "code",
      "metadata": {
        "id": "-HHOHGkZHC2n",
        "colab_type": "code",
        "colab": {
          "base_uri": "https://localhost:8080/",
          "height": 34
        },
        "outputId": "2779eb41-ccb3-414e-c0ef-c679c8d9bcdc"
      },
      "source": [
        "val_data_gen = validation_image_generator.flow_from_directory(batch_size=batch_size,\n",
        "                                                              directory=validation_dir,\n",
        "                                                              target_size=(IMG_HEIGHT, IMG_WIDTH),\n",
        "                                                              class_mode='binary')"
      ],
      "execution_count": 9,
      "outputs": [
        {
          "output_type": "stream",
          "text": [
            "Found 195 images belonging to 2 classes.\n"
          ],
          "name": "stdout"
        }
      ]
    },
    {
      "cell_type": "code",
      "metadata": {
        "id": "6sHaBMxZMK0H",
        "colab_type": "code",
        "colab": {
          "base_uri": "https://localhost:8080/",
          "height": 51
        },
        "outputId": "ff7fa8af-4fc8-44fe-db4f-640230252ba1"
      },
      "source": [
        "import numpy as np\n",
        " \n",
        "from tensorflow.keras.applications.resnet50 import ResNet50\n",
        "from tensorflow.keras.preprocessing import image\n",
        "from tensorflow.keras.applications.resnet50 import preprocess_input, decode_predictions\n",
        " \n",
        "from tensorflow.keras.layers import Dense, GlobalAveragePooling2D\n",
        "from tensorflow.keras.models import Model # This is the functional API\n",
        " \n",
        "resnet = ResNet50(weights='imagenet', include_top=False)"
      ],
      "execution_count": 12,
      "outputs": [
        {
          "output_type": "stream",
          "text": [
            "Downloading data from https://storage.googleapis.com/tensorflow/keras-applications/resnet/resnet50_weights_tf_dim_ordering_tf_kernels_notop.h5\n",
            "94773248/94765736 [==============================] - 2s 0us/step\n"
          ],
          "name": "stdout"
        }
      ]
    },
    {
      "cell_type": "code",
      "metadata": {
        "id": "KSKV71JNMP_8",
        "colab_type": "code",
        "colab": {}
      },
      "source": [
        "for layer in resnet.layers:\n",
        "    layer.trainable = False"
      ],
      "execution_count": 0,
      "outputs": []
    },
    {
      "cell_type": "code",
      "metadata": {
        "id": "MPimK_5aMVKK",
        "colab_type": "code",
        "colab": {}
      },
      "source": [
        "x = resnet.output\n",
        "x = GlobalAveragePooling2D()(x) # This layer is a really fancy flatten\n",
        "x = Dense(1024, activation='relu')(x)\n",
        "predictions = Dense(1, activation='sigmoid')(x)\n",
        "model = Model(resnet.input, predictions)"
      ],
      "execution_count": 0,
      "outputs": []
    },
    {
      "cell_type": "markdown",
      "metadata": {
        "id": "rT9GOLC7HC2s",
        "colab_type": "text"
      },
      "source": [
        "## Instatiate Model"
      ]
    },
    {
      "cell_type": "code",
      "metadata": {
        "id": "NahaaZydHC2t",
        "colab_type": "code",
        "colab": {
          "base_uri": "https://localhost:8080/",
          "height": 1000
        },
        "outputId": "e587d51f-4151-417f-dd24-877c88a6a33c"
      },
      "source": [
        "\n",
        "# Compile Model\n",
        "model.compile(optimizer='adam',\n",
        "              loss='sparse_categorical_crossentropy',\n",
        "              metrics=['accuracy'])\n",
        "\n",
        "# Print summary\n",
        "model.summary()"
      ],
      "execution_count": 15,
      "outputs": [
        {
          "output_type": "stream",
          "text": [
            "Model: \"model\"\n",
            "__________________________________________________________________________________________________\n",
            "Layer (type)                    Output Shape         Param #     Connected to                     \n",
            "==================================================================================================\n",
            "input_1 (InputLayer)            [(None, None, None,  0                                            \n",
            "__________________________________________________________________________________________________\n",
            "conv1_pad (ZeroPadding2D)       (None, None, None, 3 0           input_1[0][0]                    \n",
            "__________________________________________________________________________________________________\n",
            "conv1_conv (Conv2D)             (None, None, None, 6 9472        conv1_pad[0][0]                  \n",
            "__________________________________________________________________________________________________\n",
            "conv1_bn (BatchNormalization)   (None, None, None, 6 256         conv1_conv[0][0]                 \n",
            "__________________________________________________________________________________________________\n",
            "conv1_relu (Activation)         (None, None, None, 6 0           conv1_bn[0][0]                   \n",
            "__________________________________________________________________________________________________\n",
            "pool1_pad (ZeroPadding2D)       (None, None, None, 6 0           conv1_relu[0][0]                 \n",
            "__________________________________________________________________________________________________\n",
            "pool1_pool (MaxPooling2D)       (None, None, None, 6 0           pool1_pad[0][0]                  \n",
            "__________________________________________________________________________________________________\n",
            "conv2_block1_1_conv (Conv2D)    (None, None, None, 6 4160        pool1_pool[0][0]                 \n",
            "__________________________________________________________________________________________________\n",
            "conv2_block1_1_bn (BatchNormali (None, None, None, 6 256         conv2_block1_1_conv[0][0]        \n",
            "__________________________________________________________________________________________________\n",
            "conv2_block1_1_relu (Activation (None, None, None, 6 0           conv2_block1_1_bn[0][0]          \n",
            "__________________________________________________________________________________________________\n",
            "conv2_block1_2_conv (Conv2D)    (None, None, None, 6 36928       conv2_block1_1_relu[0][0]        \n",
            "__________________________________________________________________________________________________\n",
            "conv2_block1_2_bn (BatchNormali (None, None, None, 6 256         conv2_block1_2_conv[0][0]        \n",
            "__________________________________________________________________________________________________\n",
            "conv2_block1_2_relu (Activation (None, None, None, 6 0           conv2_block1_2_bn[0][0]          \n",
            "__________________________________________________________________________________________________\n",
            "conv2_block1_0_conv (Conv2D)    (None, None, None, 2 16640       pool1_pool[0][0]                 \n",
            "__________________________________________________________________________________________________\n",
            "conv2_block1_3_conv (Conv2D)    (None, None, None, 2 16640       conv2_block1_2_relu[0][0]        \n",
            "__________________________________________________________________________________________________\n",
            "conv2_block1_0_bn (BatchNormali (None, None, None, 2 1024        conv2_block1_0_conv[0][0]        \n",
            "__________________________________________________________________________________________________\n",
            "conv2_block1_3_bn (BatchNormali (None, None, None, 2 1024        conv2_block1_3_conv[0][0]        \n",
            "__________________________________________________________________________________________________\n",
            "conv2_block1_add (Add)          (None, None, None, 2 0           conv2_block1_0_bn[0][0]          \n",
            "                                                                 conv2_block1_3_bn[0][0]          \n",
            "__________________________________________________________________________________________________\n",
            "conv2_block1_out (Activation)   (None, None, None, 2 0           conv2_block1_add[0][0]           \n",
            "__________________________________________________________________________________________________\n",
            "conv2_block2_1_conv (Conv2D)    (None, None, None, 6 16448       conv2_block1_out[0][0]           \n",
            "__________________________________________________________________________________________________\n",
            "conv2_block2_1_bn (BatchNormali (None, None, None, 6 256         conv2_block2_1_conv[0][0]        \n",
            "__________________________________________________________________________________________________\n",
            "conv2_block2_1_relu (Activation (None, None, None, 6 0           conv2_block2_1_bn[0][0]          \n",
            "__________________________________________________________________________________________________\n",
            "conv2_block2_2_conv (Conv2D)    (None, None, None, 6 36928       conv2_block2_1_relu[0][0]        \n",
            "__________________________________________________________________________________________________\n",
            "conv2_block2_2_bn (BatchNormali (None, None, None, 6 256         conv2_block2_2_conv[0][0]        \n",
            "__________________________________________________________________________________________________\n",
            "conv2_block2_2_relu (Activation (None, None, None, 6 0           conv2_block2_2_bn[0][0]          \n",
            "__________________________________________________________________________________________________\n",
            "conv2_block2_3_conv (Conv2D)    (None, None, None, 2 16640       conv2_block2_2_relu[0][0]        \n",
            "__________________________________________________________________________________________________\n",
            "conv2_block2_3_bn (BatchNormali (None, None, None, 2 1024        conv2_block2_3_conv[0][0]        \n",
            "__________________________________________________________________________________________________\n",
            "conv2_block2_add (Add)          (None, None, None, 2 0           conv2_block1_out[0][0]           \n",
            "                                                                 conv2_block2_3_bn[0][0]          \n",
            "__________________________________________________________________________________________________\n",
            "conv2_block2_out (Activation)   (None, None, None, 2 0           conv2_block2_add[0][0]           \n",
            "__________________________________________________________________________________________________\n",
            "conv2_block3_1_conv (Conv2D)    (None, None, None, 6 16448       conv2_block2_out[0][0]           \n",
            "__________________________________________________________________________________________________\n",
            "conv2_block3_1_bn (BatchNormali (None, None, None, 6 256         conv2_block3_1_conv[0][0]        \n",
            "__________________________________________________________________________________________________\n",
            "conv2_block3_1_relu (Activation (None, None, None, 6 0           conv2_block3_1_bn[0][0]          \n",
            "__________________________________________________________________________________________________\n",
            "conv2_block3_2_conv (Conv2D)    (None, None, None, 6 36928       conv2_block3_1_relu[0][0]        \n",
            "__________________________________________________________________________________________________\n",
            "conv2_block3_2_bn (BatchNormali (None, None, None, 6 256         conv2_block3_2_conv[0][0]        \n",
            "__________________________________________________________________________________________________\n",
            "conv2_block3_2_relu (Activation (None, None, None, 6 0           conv2_block3_2_bn[0][0]          \n",
            "__________________________________________________________________________________________________\n",
            "conv2_block3_3_conv (Conv2D)    (None, None, None, 2 16640       conv2_block3_2_relu[0][0]        \n",
            "__________________________________________________________________________________________________\n",
            "conv2_block3_3_bn (BatchNormali (None, None, None, 2 1024        conv2_block3_3_conv[0][0]        \n",
            "__________________________________________________________________________________________________\n",
            "conv2_block3_add (Add)          (None, None, None, 2 0           conv2_block2_out[0][0]           \n",
            "                                                                 conv2_block3_3_bn[0][0]          \n",
            "__________________________________________________________________________________________________\n",
            "conv2_block3_out (Activation)   (None, None, None, 2 0           conv2_block3_add[0][0]           \n",
            "__________________________________________________________________________________________________\n",
            "conv3_block1_1_conv (Conv2D)    (None, None, None, 1 32896       conv2_block3_out[0][0]           \n",
            "__________________________________________________________________________________________________\n",
            "conv3_block1_1_bn (BatchNormali (None, None, None, 1 512         conv3_block1_1_conv[0][0]        \n",
            "__________________________________________________________________________________________________\n",
            "conv3_block1_1_relu (Activation (None, None, None, 1 0           conv3_block1_1_bn[0][0]          \n",
            "__________________________________________________________________________________________________\n",
            "conv3_block1_2_conv (Conv2D)    (None, None, None, 1 147584      conv3_block1_1_relu[0][0]        \n",
            "__________________________________________________________________________________________________\n",
            "conv3_block1_2_bn (BatchNormali (None, None, None, 1 512         conv3_block1_2_conv[0][0]        \n",
            "__________________________________________________________________________________________________\n",
            "conv3_block1_2_relu (Activation (None, None, None, 1 0           conv3_block1_2_bn[0][0]          \n",
            "__________________________________________________________________________________________________\n",
            "conv3_block1_0_conv (Conv2D)    (None, None, None, 5 131584      conv2_block3_out[0][0]           \n",
            "__________________________________________________________________________________________________\n",
            "conv3_block1_3_conv (Conv2D)    (None, None, None, 5 66048       conv3_block1_2_relu[0][0]        \n",
            "__________________________________________________________________________________________________\n",
            "conv3_block1_0_bn (BatchNormali (None, None, None, 5 2048        conv3_block1_0_conv[0][0]        \n",
            "__________________________________________________________________________________________________\n",
            "conv3_block1_3_bn (BatchNormali (None, None, None, 5 2048        conv3_block1_3_conv[0][0]        \n",
            "__________________________________________________________________________________________________\n",
            "conv3_block1_add (Add)          (None, None, None, 5 0           conv3_block1_0_bn[0][0]          \n",
            "                                                                 conv3_block1_3_bn[0][0]          \n",
            "__________________________________________________________________________________________________\n",
            "conv3_block1_out (Activation)   (None, None, None, 5 0           conv3_block1_add[0][0]           \n",
            "__________________________________________________________________________________________________\n",
            "conv3_block2_1_conv (Conv2D)    (None, None, None, 1 65664       conv3_block1_out[0][0]           \n",
            "__________________________________________________________________________________________________\n",
            "conv3_block2_1_bn (BatchNormali (None, None, None, 1 512         conv3_block2_1_conv[0][0]        \n",
            "__________________________________________________________________________________________________\n",
            "conv3_block2_1_relu (Activation (None, None, None, 1 0           conv3_block2_1_bn[0][0]          \n",
            "__________________________________________________________________________________________________\n",
            "conv3_block2_2_conv (Conv2D)    (None, None, None, 1 147584      conv3_block2_1_relu[0][0]        \n",
            "__________________________________________________________________________________________________\n",
            "conv3_block2_2_bn (BatchNormali (None, None, None, 1 512         conv3_block2_2_conv[0][0]        \n",
            "__________________________________________________________________________________________________\n",
            "conv3_block2_2_relu (Activation (None, None, None, 1 0           conv3_block2_2_bn[0][0]          \n",
            "__________________________________________________________________________________________________\n",
            "conv3_block2_3_conv (Conv2D)    (None, None, None, 5 66048       conv3_block2_2_relu[0][0]        \n",
            "__________________________________________________________________________________________________\n",
            "conv3_block2_3_bn (BatchNormali (None, None, None, 5 2048        conv3_block2_3_conv[0][0]        \n",
            "__________________________________________________________________________________________________\n",
            "conv3_block2_add (Add)          (None, None, None, 5 0           conv3_block1_out[0][0]           \n",
            "                                                                 conv3_block2_3_bn[0][0]          \n",
            "__________________________________________________________________________________________________\n",
            "conv3_block2_out (Activation)   (None, None, None, 5 0           conv3_block2_add[0][0]           \n",
            "__________________________________________________________________________________________________\n",
            "conv3_block3_1_conv (Conv2D)    (None, None, None, 1 65664       conv3_block2_out[0][0]           \n",
            "__________________________________________________________________________________________________\n",
            "conv3_block3_1_bn (BatchNormali (None, None, None, 1 512         conv3_block3_1_conv[0][0]        \n",
            "__________________________________________________________________________________________________\n",
            "conv3_block3_1_relu (Activation (None, None, None, 1 0           conv3_block3_1_bn[0][0]          \n",
            "__________________________________________________________________________________________________\n",
            "conv3_block3_2_conv (Conv2D)    (None, None, None, 1 147584      conv3_block3_1_relu[0][0]        \n",
            "__________________________________________________________________________________________________\n",
            "conv3_block3_2_bn (BatchNormali (None, None, None, 1 512         conv3_block3_2_conv[0][0]        \n",
            "__________________________________________________________________________________________________\n",
            "conv3_block3_2_relu (Activation (None, None, None, 1 0           conv3_block3_2_bn[0][0]          \n",
            "__________________________________________________________________________________________________\n",
            "conv3_block3_3_conv (Conv2D)    (None, None, None, 5 66048       conv3_block3_2_relu[0][0]        \n",
            "__________________________________________________________________________________________________\n",
            "conv3_block3_3_bn (BatchNormali (None, None, None, 5 2048        conv3_block3_3_conv[0][0]        \n",
            "__________________________________________________________________________________________________\n",
            "conv3_block3_add (Add)          (None, None, None, 5 0           conv3_block2_out[0][0]           \n",
            "                                                                 conv3_block3_3_bn[0][0]          \n",
            "__________________________________________________________________________________________________\n",
            "conv3_block3_out (Activation)   (None, None, None, 5 0           conv3_block3_add[0][0]           \n",
            "__________________________________________________________________________________________________\n",
            "conv3_block4_1_conv (Conv2D)    (None, None, None, 1 65664       conv3_block3_out[0][0]           \n",
            "__________________________________________________________________________________________________\n",
            "conv3_block4_1_bn (BatchNormali (None, None, None, 1 512         conv3_block4_1_conv[0][0]        \n",
            "__________________________________________________________________________________________________\n",
            "conv3_block4_1_relu (Activation (None, None, None, 1 0           conv3_block4_1_bn[0][0]          \n",
            "__________________________________________________________________________________________________\n",
            "conv3_block4_2_conv (Conv2D)    (None, None, None, 1 147584      conv3_block4_1_relu[0][0]        \n",
            "__________________________________________________________________________________________________\n",
            "conv3_block4_2_bn (BatchNormali (None, None, None, 1 512         conv3_block4_2_conv[0][0]        \n",
            "__________________________________________________________________________________________________\n",
            "conv3_block4_2_relu (Activation (None, None, None, 1 0           conv3_block4_2_bn[0][0]          \n",
            "__________________________________________________________________________________________________\n",
            "conv3_block4_3_conv (Conv2D)    (None, None, None, 5 66048       conv3_block4_2_relu[0][0]        \n",
            "__________________________________________________________________________________________________\n",
            "conv3_block4_3_bn (BatchNormali (None, None, None, 5 2048        conv3_block4_3_conv[0][0]        \n",
            "__________________________________________________________________________________________________\n",
            "conv3_block4_add (Add)          (None, None, None, 5 0           conv3_block3_out[0][0]           \n",
            "                                                                 conv3_block4_3_bn[0][0]          \n",
            "__________________________________________________________________________________________________\n",
            "conv3_block4_out (Activation)   (None, None, None, 5 0           conv3_block4_add[0][0]           \n",
            "__________________________________________________________________________________________________\n",
            "conv4_block1_1_conv (Conv2D)    (None, None, None, 2 131328      conv3_block4_out[0][0]           \n",
            "__________________________________________________________________________________________________\n",
            "conv4_block1_1_bn (BatchNormali (None, None, None, 2 1024        conv4_block1_1_conv[0][0]        \n",
            "__________________________________________________________________________________________________\n",
            "conv4_block1_1_relu (Activation (None, None, None, 2 0           conv4_block1_1_bn[0][0]          \n",
            "__________________________________________________________________________________________________\n",
            "conv4_block1_2_conv (Conv2D)    (None, None, None, 2 590080      conv4_block1_1_relu[0][0]        \n",
            "__________________________________________________________________________________________________\n",
            "conv4_block1_2_bn (BatchNormali (None, None, None, 2 1024        conv4_block1_2_conv[0][0]        \n",
            "__________________________________________________________________________________________________\n",
            "conv4_block1_2_relu (Activation (None, None, None, 2 0           conv4_block1_2_bn[0][0]          \n",
            "__________________________________________________________________________________________________\n",
            "conv4_block1_0_conv (Conv2D)    (None, None, None, 1 525312      conv3_block4_out[0][0]           \n",
            "__________________________________________________________________________________________________\n",
            "conv4_block1_3_conv (Conv2D)    (None, None, None, 1 263168      conv4_block1_2_relu[0][0]        \n",
            "__________________________________________________________________________________________________\n",
            "conv4_block1_0_bn (BatchNormali (None, None, None, 1 4096        conv4_block1_0_conv[0][0]        \n",
            "__________________________________________________________________________________________________\n",
            "conv4_block1_3_bn (BatchNormali (None, None, None, 1 4096        conv4_block1_3_conv[0][0]        \n",
            "__________________________________________________________________________________________________\n",
            "conv4_block1_add (Add)          (None, None, None, 1 0           conv4_block1_0_bn[0][0]          \n",
            "                                                                 conv4_block1_3_bn[0][0]          \n",
            "__________________________________________________________________________________________________\n",
            "conv4_block1_out (Activation)   (None, None, None, 1 0           conv4_block1_add[0][0]           \n",
            "__________________________________________________________________________________________________\n",
            "conv4_block2_1_conv (Conv2D)    (None, None, None, 2 262400      conv4_block1_out[0][0]           \n",
            "__________________________________________________________________________________________________\n",
            "conv4_block2_1_bn (BatchNormali (None, None, None, 2 1024        conv4_block2_1_conv[0][0]        \n",
            "__________________________________________________________________________________________________\n",
            "conv4_block2_1_relu (Activation (None, None, None, 2 0           conv4_block2_1_bn[0][0]          \n",
            "__________________________________________________________________________________________________\n",
            "conv4_block2_2_conv (Conv2D)    (None, None, None, 2 590080      conv4_block2_1_relu[0][0]        \n",
            "__________________________________________________________________________________________________\n",
            "conv4_block2_2_bn (BatchNormali (None, None, None, 2 1024        conv4_block2_2_conv[0][0]        \n",
            "__________________________________________________________________________________________________\n",
            "conv4_block2_2_relu (Activation (None, None, None, 2 0           conv4_block2_2_bn[0][0]          \n",
            "__________________________________________________________________________________________________\n",
            "conv4_block2_3_conv (Conv2D)    (None, None, None, 1 263168      conv4_block2_2_relu[0][0]        \n",
            "__________________________________________________________________________________________________\n",
            "conv4_block2_3_bn (BatchNormali (None, None, None, 1 4096        conv4_block2_3_conv[0][0]        \n",
            "__________________________________________________________________________________________________\n",
            "conv4_block2_add (Add)          (None, None, None, 1 0           conv4_block1_out[0][0]           \n",
            "                                                                 conv4_block2_3_bn[0][0]          \n",
            "__________________________________________________________________________________________________\n",
            "conv4_block2_out (Activation)   (None, None, None, 1 0           conv4_block2_add[0][0]           \n",
            "__________________________________________________________________________________________________\n",
            "conv4_block3_1_conv (Conv2D)    (None, None, None, 2 262400      conv4_block2_out[0][0]           \n",
            "__________________________________________________________________________________________________\n",
            "conv4_block3_1_bn (BatchNormali (None, None, None, 2 1024        conv4_block3_1_conv[0][0]        \n",
            "__________________________________________________________________________________________________\n",
            "conv4_block3_1_relu (Activation (None, None, None, 2 0           conv4_block3_1_bn[0][0]          \n",
            "__________________________________________________________________________________________________\n",
            "conv4_block3_2_conv (Conv2D)    (None, None, None, 2 590080      conv4_block3_1_relu[0][0]        \n",
            "__________________________________________________________________________________________________\n",
            "conv4_block3_2_bn (BatchNormali (None, None, None, 2 1024        conv4_block3_2_conv[0][0]        \n",
            "__________________________________________________________________________________________________\n",
            "conv4_block3_2_relu (Activation (None, None, None, 2 0           conv4_block3_2_bn[0][0]          \n",
            "__________________________________________________________________________________________________\n",
            "conv4_block3_3_conv (Conv2D)    (None, None, None, 1 263168      conv4_block3_2_relu[0][0]        \n",
            "__________________________________________________________________________________________________\n",
            "conv4_block3_3_bn (BatchNormali (None, None, None, 1 4096        conv4_block3_3_conv[0][0]        \n",
            "__________________________________________________________________________________________________\n",
            "conv4_block3_add (Add)          (None, None, None, 1 0           conv4_block2_out[0][0]           \n",
            "                                                                 conv4_block3_3_bn[0][0]          \n",
            "__________________________________________________________________________________________________\n",
            "conv4_block3_out (Activation)   (None, None, None, 1 0           conv4_block3_add[0][0]           \n",
            "__________________________________________________________________________________________________\n",
            "conv4_block4_1_conv (Conv2D)    (None, None, None, 2 262400      conv4_block3_out[0][0]           \n",
            "__________________________________________________________________________________________________\n",
            "conv4_block4_1_bn (BatchNormali (None, None, None, 2 1024        conv4_block4_1_conv[0][0]        \n",
            "__________________________________________________________________________________________________\n",
            "conv4_block4_1_relu (Activation (None, None, None, 2 0           conv4_block4_1_bn[0][0]          \n",
            "__________________________________________________________________________________________________\n",
            "conv4_block4_2_conv (Conv2D)    (None, None, None, 2 590080      conv4_block4_1_relu[0][0]        \n",
            "__________________________________________________________________________________________________\n",
            "conv4_block4_2_bn (BatchNormali (None, None, None, 2 1024        conv4_block4_2_conv[0][0]        \n",
            "__________________________________________________________________________________________________\n",
            "conv4_block4_2_relu (Activation (None, None, None, 2 0           conv4_block4_2_bn[0][0]          \n",
            "__________________________________________________________________________________________________\n",
            "conv4_block4_3_conv (Conv2D)    (None, None, None, 1 263168      conv4_block4_2_relu[0][0]        \n",
            "__________________________________________________________________________________________________\n",
            "conv4_block4_3_bn (BatchNormali (None, None, None, 1 4096        conv4_block4_3_conv[0][0]        \n",
            "__________________________________________________________________________________________________\n",
            "conv4_block4_add (Add)          (None, None, None, 1 0           conv4_block3_out[0][0]           \n",
            "                                                                 conv4_block4_3_bn[0][0]          \n",
            "__________________________________________________________________________________________________\n",
            "conv4_block4_out (Activation)   (None, None, None, 1 0           conv4_block4_add[0][0]           \n",
            "__________________________________________________________________________________________________\n",
            "conv4_block5_1_conv (Conv2D)    (None, None, None, 2 262400      conv4_block4_out[0][0]           \n",
            "__________________________________________________________________________________________________\n",
            "conv4_block5_1_bn (BatchNormali (None, None, None, 2 1024        conv4_block5_1_conv[0][0]        \n",
            "__________________________________________________________________________________________________\n",
            "conv4_block5_1_relu (Activation (None, None, None, 2 0           conv4_block5_1_bn[0][0]          \n",
            "__________________________________________________________________________________________________\n",
            "conv4_block5_2_conv (Conv2D)    (None, None, None, 2 590080      conv4_block5_1_relu[0][0]        \n",
            "__________________________________________________________________________________________________\n",
            "conv4_block5_2_bn (BatchNormali (None, None, None, 2 1024        conv4_block5_2_conv[0][0]        \n",
            "__________________________________________________________________________________________________\n",
            "conv4_block5_2_relu (Activation (None, None, None, 2 0           conv4_block5_2_bn[0][0]          \n",
            "__________________________________________________________________________________________________\n",
            "conv4_block5_3_conv (Conv2D)    (None, None, None, 1 263168      conv4_block5_2_relu[0][0]        \n",
            "__________________________________________________________________________________________________\n",
            "conv4_block5_3_bn (BatchNormali (None, None, None, 1 4096        conv4_block5_3_conv[0][0]        \n",
            "__________________________________________________________________________________________________\n",
            "conv4_block5_add (Add)          (None, None, None, 1 0           conv4_block4_out[0][0]           \n",
            "                                                                 conv4_block5_3_bn[0][0]          \n",
            "__________________________________________________________________________________________________\n",
            "conv4_block5_out (Activation)   (None, None, None, 1 0           conv4_block5_add[0][0]           \n",
            "__________________________________________________________________________________________________\n",
            "conv4_block6_1_conv (Conv2D)    (None, None, None, 2 262400      conv4_block5_out[0][0]           \n",
            "__________________________________________________________________________________________________\n",
            "conv4_block6_1_bn (BatchNormali (None, None, None, 2 1024        conv4_block6_1_conv[0][0]        \n",
            "__________________________________________________________________________________________________\n",
            "conv4_block6_1_relu (Activation (None, None, None, 2 0           conv4_block6_1_bn[0][0]          \n",
            "__________________________________________________________________________________________________\n",
            "conv4_block6_2_conv (Conv2D)    (None, None, None, 2 590080      conv4_block6_1_relu[0][0]        \n",
            "__________________________________________________________________________________________________\n",
            "conv4_block6_2_bn (BatchNormali (None, None, None, 2 1024        conv4_block6_2_conv[0][0]        \n",
            "__________________________________________________________________________________________________\n",
            "conv4_block6_2_relu (Activation (None, None, None, 2 0           conv4_block6_2_bn[0][0]          \n",
            "__________________________________________________________________________________________________\n",
            "conv4_block6_3_conv (Conv2D)    (None, None, None, 1 263168      conv4_block6_2_relu[0][0]        \n",
            "__________________________________________________________________________________________________\n",
            "conv4_block6_3_bn (BatchNormali (None, None, None, 1 4096        conv4_block6_3_conv[0][0]        \n",
            "__________________________________________________________________________________________________\n",
            "conv4_block6_add (Add)          (None, None, None, 1 0           conv4_block5_out[0][0]           \n",
            "                                                                 conv4_block6_3_bn[0][0]          \n",
            "__________________________________________________________________________________________________\n",
            "conv4_block6_out (Activation)   (None, None, None, 1 0           conv4_block6_add[0][0]           \n",
            "__________________________________________________________________________________________________\n",
            "conv5_block1_1_conv (Conv2D)    (None, None, None, 5 524800      conv4_block6_out[0][0]           \n",
            "__________________________________________________________________________________________________\n",
            "conv5_block1_1_bn (BatchNormali (None, None, None, 5 2048        conv5_block1_1_conv[0][0]        \n",
            "__________________________________________________________________________________________________\n",
            "conv5_block1_1_relu (Activation (None, None, None, 5 0           conv5_block1_1_bn[0][0]          \n",
            "__________________________________________________________________________________________________\n",
            "conv5_block1_2_conv (Conv2D)    (None, None, None, 5 2359808     conv5_block1_1_relu[0][0]        \n",
            "__________________________________________________________________________________________________\n",
            "conv5_block1_2_bn (BatchNormali (None, None, None, 5 2048        conv5_block1_2_conv[0][0]        \n",
            "__________________________________________________________________________________________________\n",
            "conv5_block1_2_relu (Activation (None, None, None, 5 0           conv5_block1_2_bn[0][0]          \n",
            "__________________________________________________________________________________________________\n",
            "conv5_block1_0_conv (Conv2D)    (None, None, None, 2 2099200     conv4_block6_out[0][0]           \n",
            "__________________________________________________________________________________________________\n",
            "conv5_block1_3_conv (Conv2D)    (None, None, None, 2 1050624     conv5_block1_2_relu[0][0]        \n",
            "__________________________________________________________________________________________________\n",
            "conv5_block1_0_bn (BatchNormali (None, None, None, 2 8192        conv5_block1_0_conv[0][0]        \n",
            "__________________________________________________________________________________________________\n",
            "conv5_block1_3_bn (BatchNormali (None, None, None, 2 8192        conv5_block1_3_conv[0][0]        \n",
            "__________________________________________________________________________________________________\n",
            "conv5_block1_add (Add)          (None, None, None, 2 0           conv5_block1_0_bn[0][0]          \n",
            "                                                                 conv5_block1_3_bn[0][0]          \n",
            "__________________________________________________________________________________________________\n",
            "conv5_block1_out (Activation)   (None, None, None, 2 0           conv5_block1_add[0][0]           \n",
            "__________________________________________________________________________________________________\n",
            "conv5_block2_1_conv (Conv2D)    (None, None, None, 5 1049088     conv5_block1_out[0][0]           \n",
            "__________________________________________________________________________________________________\n",
            "conv5_block2_1_bn (BatchNormali (None, None, None, 5 2048        conv5_block2_1_conv[0][0]        \n",
            "__________________________________________________________________________________________________\n",
            "conv5_block2_1_relu (Activation (None, None, None, 5 0           conv5_block2_1_bn[0][0]          \n",
            "__________________________________________________________________________________________________\n",
            "conv5_block2_2_conv (Conv2D)    (None, None, None, 5 2359808     conv5_block2_1_relu[0][0]        \n",
            "__________________________________________________________________________________________________\n",
            "conv5_block2_2_bn (BatchNormali (None, None, None, 5 2048        conv5_block2_2_conv[0][0]        \n",
            "__________________________________________________________________________________________________\n",
            "conv5_block2_2_relu (Activation (None, None, None, 5 0           conv5_block2_2_bn[0][0]          \n",
            "__________________________________________________________________________________________________\n",
            "conv5_block2_3_conv (Conv2D)    (None, None, None, 2 1050624     conv5_block2_2_relu[0][0]        \n",
            "__________________________________________________________________________________________________\n",
            "conv5_block2_3_bn (BatchNormali (None, None, None, 2 8192        conv5_block2_3_conv[0][0]        \n",
            "__________________________________________________________________________________________________\n",
            "conv5_block2_add (Add)          (None, None, None, 2 0           conv5_block1_out[0][0]           \n",
            "                                                                 conv5_block2_3_bn[0][0]          \n",
            "__________________________________________________________________________________________________\n",
            "conv5_block2_out (Activation)   (None, None, None, 2 0           conv5_block2_add[0][0]           \n",
            "__________________________________________________________________________________________________\n",
            "conv5_block3_1_conv (Conv2D)    (None, None, None, 5 1049088     conv5_block2_out[0][0]           \n",
            "__________________________________________________________________________________________________\n",
            "conv5_block3_1_bn (BatchNormali (None, None, None, 5 2048        conv5_block3_1_conv[0][0]        \n",
            "__________________________________________________________________________________________________\n",
            "conv5_block3_1_relu (Activation (None, None, None, 5 0           conv5_block3_1_bn[0][0]          \n",
            "__________________________________________________________________________________________________\n",
            "conv5_block3_2_conv (Conv2D)    (None, None, None, 5 2359808     conv5_block3_1_relu[0][0]        \n",
            "__________________________________________________________________________________________________\n",
            "conv5_block3_2_bn (BatchNormali (None, None, None, 5 2048        conv5_block3_2_conv[0][0]        \n",
            "__________________________________________________________________________________________________\n",
            "conv5_block3_2_relu (Activation (None, None, None, 5 0           conv5_block3_2_bn[0][0]          \n",
            "__________________________________________________________________________________________________\n",
            "conv5_block3_3_conv (Conv2D)    (None, None, None, 2 1050624     conv5_block3_2_relu[0][0]        \n",
            "__________________________________________________________________________________________________\n",
            "conv5_block3_3_bn (BatchNormali (None, None, None, 2 8192        conv5_block3_3_conv[0][0]        \n",
            "__________________________________________________________________________________________________\n",
            "conv5_block3_add (Add)          (None, None, None, 2 0           conv5_block2_out[0][0]           \n",
            "                                                                 conv5_block3_3_bn[0][0]          \n",
            "__________________________________________________________________________________________________\n",
            "conv5_block3_out (Activation)   (None, None, None, 2 0           conv5_block3_add[0][0]           \n",
            "__________________________________________________________________________________________________\n",
            "global_average_pooling2d (Globa (None, 2048)         0           conv5_block3_out[0][0]           \n",
            "__________________________________________________________________________________________________\n",
            "dense_2 (Dense)                 (None, 1024)         2098176     global_average_pooling2d[0][0]   \n",
            "__________________________________________________________________________________________________\n",
            "dense_3 (Dense)                 (None, 1)            1025        dense_2[0][0]                    \n",
            "==================================================================================================\n",
            "Total params: 25,686,913\n",
            "Trainable params: 2,099,201\n",
            "Non-trainable params: 23,587,712\n",
            "__________________________________________________________________________________________________\n"
          ],
          "name": "stdout"
        }
      ]
    },
    {
      "cell_type": "markdown",
      "metadata": {
        "id": "-4PsLaceHC2w",
        "colab_type": "text"
      },
      "source": [
        "## Fit Model"
      ]
    },
    {
      "cell_type": "code",
      "metadata": {
        "id": "T2etRHauHC2x",
        "colab_type": "code",
        "colab": {
          "base_uri": "https://localhost:8080/",
          "height": 1000
        },
        "outputId": "e4aee107-dc07-4438-8c8f-e3021f13557a"
      },
      "source": [
        "history = model.fit(\n",
        "    train_data_gen,\n",
        "    steps_per_epoch=total_train // batch_size,\n",
        "    epochs=epochs,\n",
        "    validation_data=val_data_gen,\n",
        "    validation_steps=total_val // batch_size\n",
        ")"
      ],
      "execution_count": 16,
      "outputs": [
        {
          "output_type": "stream",
          "text": [
            "Epoch 1/50\n",
            "32/32 [==============================] - 4s 137ms/step - loss: nan - accuracy: 0.5269 - val_loss: nan - val_accuracy: 0.3466\n",
            "Epoch 2/50\n",
            "32/32 [==============================] - 3s 105ms/step - loss: nan - accuracy: 0.5190 - val_loss: nan - val_accuracy: 0.3409\n",
            "Epoch 3/50\n",
            "32/32 [==============================] - 3s 106ms/step - loss: nan - accuracy: 0.5130 - val_loss: nan - val_accuracy: 0.3295\n",
            "Epoch 4/50\n",
            "32/32 [==============================] - 3s 104ms/step - loss: nan - accuracy: 0.5150 - val_loss: nan - val_accuracy: 0.3352\n",
            "Epoch 5/50\n",
            "32/32 [==============================] - 3s 105ms/step - loss: nan - accuracy: 0.5230 - val_loss: nan - val_accuracy: 0.3580\n",
            "Epoch 6/50\n",
            "32/32 [==============================] - 3s 105ms/step - loss: nan - accuracy: 0.5170 - val_loss: nan - val_accuracy: 0.3523\n",
            "Epoch 7/50\n",
            "32/32 [==============================] - 3s 104ms/step - loss: nan - accuracy: 0.5130 - val_loss: nan - val_accuracy: 0.3466\n",
            "Epoch 8/50\n",
            "32/32 [==============================] - 3s 105ms/step - loss: nan - accuracy: 0.5210 - val_loss: nan - val_accuracy: 0.3523\n",
            "Epoch 9/50\n",
            "32/32 [==============================] - 3s 105ms/step - loss: nan - accuracy: 0.5269 - val_loss: nan - val_accuracy: 0.3580\n",
            "Epoch 10/50\n",
            "32/32 [==============================] - 3s 106ms/step - loss: nan - accuracy: 0.5110 - val_loss: nan - val_accuracy: 0.3466\n",
            "Epoch 11/50\n",
            "32/32 [==============================] - 3s 104ms/step - loss: nan - accuracy: 0.5250 - val_loss: nan - val_accuracy: 0.3352\n",
            "Epoch 12/50\n",
            "32/32 [==============================] - 3s 105ms/step - loss: nan - accuracy: 0.5215 - val_loss: nan - val_accuracy: 0.3409\n",
            "Epoch 13/50\n",
            "32/32 [==============================] - 3s 104ms/step - loss: nan - accuracy: 0.5210 - val_loss: nan - val_accuracy: 0.3466\n",
            "Epoch 14/50\n",
            "32/32 [==============================] - 3s 105ms/step - loss: nan - accuracy: 0.5130 - val_loss: nan - val_accuracy: 0.3409\n",
            "Epoch 15/50\n",
            "32/32 [==============================] - 3s 104ms/step - loss: nan - accuracy: 0.5170 - val_loss: nan - val_accuracy: 0.3409\n",
            "Epoch 16/50\n",
            "32/32 [==============================] - 3s 104ms/step - loss: nan - accuracy: 0.5170 - val_loss: nan - val_accuracy: 0.3580\n",
            "Epoch 17/50\n",
            "32/32 [==============================] - 3s 104ms/step - loss: nan - accuracy: 0.5190 - val_loss: nan - val_accuracy: 0.3466\n",
            "Epoch 18/50\n",
            "32/32 [==============================] - 3s 104ms/step - loss: nan - accuracy: 0.5210 - val_loss: nan - val_accuracy: 0.3466\n",
            "Epoch 19/50\n",
            "32/32 [==============================] - 3s 105ms/step - loss: nan - accuracy: 0.5050 - val_loss: nan - val_accuracy: 0.3409\n",
            "Epoch 20/50\n",
            "32/32 [==============================] - 3s 104ms/step - loss: nan - accuracy: 0.5170 - val_loss: nan - val_accuracy: 0.3352\n",
            "Epoch 21/50\n",
            "32/32 [==============================] - 3s 104ms/step - loss: nan - accuracy: 0.5190 - val_loss: nan - val_accuracy: 0.3409\n",
            "Epoch 22/50\n",
            "32/32 [==============================] - 3s 103ms/step - loss: nan - accuracy: 0.5210 - val_loss: nan - val_accuracy: 0.3409\n",
            "Epoch 23/50\n",
            "32/32 [==============================] - 3s 104ms/step - loss: nan - accuracy: 0.5070 - val_loss: nan - val_accuracy: 0.3409\n",
            "Epoch 24/50\n",
            "32/32 [==============================] - 3s 104ms/step - loss: nan - accuracy: 0.5130 - val_loss: nan - val_accuracy: 0.3523\n",
            "Epoch 25/50\n",
            "32/32 [==============================] - 3s 104ms/step - loss: nan - accuracy: 0.5289 - val_loss: nan - val_accuracy: 0.3409\n",
            "Epoch 26/50\n",
            "32/32 [==============================] - 3s 104ms/step - loss: nan - accuracy: 0.5170 - val_loss: nan - val_accuracy: 0.3295\n",
            "Epoch 27/50\n",
            "32/32 [==============================] - 3s 104ms/step - loss: nan - accuracy: 0.5090 - val_loss: nan - val_accuracy: 0.3580\n",
            "Epoch 28/50\n",
            "32/32 [==============================] - 3s 104ms/step - loss: nan - accuracy: 0.5230 - val_loss: nan - val_accuracy: 0.3409\n",
            "Epoch 29/50\n",
            "32/32 [==============================] - 3s 104ms/step - loss: nan - accuracy: 0.5130 - val_loss: nan - val_accuracy: 0.3409\n",
            "Epoch 30/50\n",
            "32/32 [==============================] - 3s 104ms/step - loss: nan - accuracy: 0.5150 - val_loss: nan - val_accuracy: 0.3580\n",
            "Epoch 31/50\n",
            "32/32 [==============================] - 3s 105ms/step - loss: nan - accuracy: 0.5110 - val_loss: nan - val_accuracy: 0.3409\n",
            "Epoch 32/50\n",
            "32/32 [==============================] - 3s 104ms/step - loss: nan - accuracy: 0.5230 - val_loss: nan - val_accuracy: 0.3239\n",
            "Epoch 33/50\n",
            "32/32 [==============================] - 3s 104ms/step - loss: nan - accuracy: 0.5070 - val_loss: nan - val_accuracy: 0.3352\n",
            "Epoch 34/50\n",
            "32/32 [==============================] - 3s 104ms/step - loss: nan - accuracy: 0.5150 - val_loss: nan - val_accuracy: 0.3466\n",
            "Epoch 35/50\n",
            "32/32 [==============================] - 3s 105ms/step - loss: nan - accuracy: 0.5098 - val_loss: nan - val_accuracy: 0.3523\n",
            "Epoch 36/50\n",
            "32/32 [==============================] - 3s 105ms/step - loss: nan - accuracy: 0.5070 - val_loss: nan - val_accuracy: 0.3295\n",
            "Epoch 37/50\n",
            "32/32 [==============================] - 3s 104ms/step - loss: nan - accuracy: 0.5150 - val_loss: nan - val_accuracy: 0.3580\n",
            "Epoch 38/50\n",
            "32/32 [==============================] - 3s 105ms/step - loss: nan - accuracy: 0.5190 - val_loss: nan - val_accuracy: 0.3239\n",
            "Epoch 39/50\n",
            "32/32 [==============================] - 3s 104ms/step - loss: nan - accuracy: 0.5210 - val_loss: nan - val_accuracy: 0.3409\n",
            "Epoch 40/50\n",
            "32/32 [==============================] - 3s 105ms/step - loss: nan - accuracy: 0.5170 - val_loss: nan - val_accuracy: 0.3295\n",
            "Epoch 41/50\n",
            "32/32 [==============================] - 3s 104ms/step - loss: nan - accuracy: 0.5130 - val_loss: nan - val_accuracy: 0.3409\n",
            "Epoch 42/50\n",
            "32/32 [==============================] - 3s 104ms/step - loss: nan - accuracy: 0.5210 - val_loss: nan - val_accuracy: 0.3409\n",
            "Epoch 43/50\n",
            "32/32 [==============================] - 3s 105ms/step - loss: nan - accuracy: 0.5130 - val_loss: nan - val_accuracy: 0.3580\n",
            "Epoch 44/50\n",
            "32/32 [==============================] - 3s 106ms/step - loss: nan - accuracy: 0.5078 - val_loss: nan - val_accuracy: 0.3352\n",
            "Epoch 45/50\n",
            "32/32 [==============================] - 3s 105ms/step - loss: nan - accuracy: 0.5230 - val_loss: nan - val_accuracy: 0.3409\n",
            "Epoch 46/50\n",
            "32/32 [==============================] - 3s 105ms/step - loss: nan - accuracy: 0.5230 - val_loss: nan - val_accuracy: 0.3295\n",
            "Epoch 47/50\n",
            "32/32 [==============================] - 3s 105ms/step - loss: nan - accuracy: 0.5130 - val_loss: nan - val_accuracy: 0.3466\n",
            "Epoch 48/50\n",
            "32/32 [==============================] - 3s 106ms/step - loss: nan - accuracy: 0.5190 - val_loss: nan - val_accuracy: 0.3466\n",
            "Epoch 49/50\n",
            "32/32 [==============================] - 3s 104ms/step - loss: nan - accuracy: 0.5110 - val_loss: nan - val_accuracy: 0.3409\n",
            "Epoch 50/50\n",
            "32/32 [==============================] - 3s 105ms/step - loss: nan - accuracy: 0.5098 - val_loss: nan - val_accuracy: 0.3466\n"
          ],
          "name": "stdout"
        }
      ]
    },
    {
      "cell_type": "markdown",
      "metadata": {
        "id": "9mx0CkwMHC20",
        "colab_type": "text"
      },
      "source": [
        "# Custom CNN Model\n",
        "\n",
        "In this step, write and train your own convolutional neural network using Keras. You can use any architecture that suits you as long as it has at least one convolutional and one pooling layer at the beginning of the network - you can add more if you want. "
      ]
    },
    {
      "cell_type": "code",
      "metadata": {
        "id": "wjcSRdnVHC20",
        "colab_type": "code",
        "colab": {
          "base_uri": "https://localhost:8080/",
          "height": 425
        },
        "outputId": "5ae8c4ee-b743-47ba-d6af-dd6559ffc95b"
      },
      "source": [
        "# Define the Model\n",
        "# Setup Architecture\n",
        "model = Sequential()\n",
        "model.add(Conv2D(32, kernel_size=(3,3), activation='relu', input_shape=(224,224,3)))\n",
        "model.add(MaxPooling2D(pool_size=(2,2)))\n",
        "model.add(Conv2D(64, kernel_size=(3,3), activation='relu'))\n",
        "model.add(MaxPooling2D(pool_size=(2,2)))\n",
        "model.add(Conv2D(64, kernel_size=(3,3), activation='relu'))\n",
        "model.add(Flatten())\n",
        "model.add(Dense(64, activation='relu'))\n",
        "model.add(Dense(1, activation='sigmoid'))\n",
        "\n",
        "\n",
        "\n",
        "# Print summary\n",
        "model.summary()\n",
        "\n",
        "\n"
      ],
      "execution_count": 30,
      "outputs": [
        {
          "output_type": "stream",
          "text": [
            "Model: \"sequential_4\"\n",
            "_________________________________________________________________\n",
            "Layer (type)                 Output Shape              Param #   \n",
            "=================================================================\n",
            "conv2d_12 (Conv2D)           (None, 222, 222, 32)      896       \n",
            "_________________________________________________________________\n",
            "max_pooling2d_8 (MaxPooling2 (None, 111, 111, 32)      0         \n",
            "_________________________________________________________________\n",
            "conv2d_13 (Conv2D)           (None, 109, 109, 64)      18496     \n",
            "_________________________________________________________________\n",
            "max_pooling2d_9 (MaxPooling2 (None, 54, 54, 64)        0         \n",
            "_________________________________________________________________\n",
            "conv2d_14 (Conv2D)           (None, 52, 52, 64)        36928     \n",
            "_________________________________________________________________\n",
            "flatten_4 (Flatten)          (None, 173056)            0         \n",
            "_________________________________________________________________\n",
            "dense_10 (Dense)             (None, 64)                11075648  \n",
            "_________________________________________________________________\n",
            "dense_11 (Dense)             (None, 1)                 65        \n",
            "=================================================================\n",
            "Total params: 11,132,033\n",
            "Trainable params: 11,132,033\n",
            "Non-trainable params: 0\n",
            "_________________________________________________________________\n"
          ],
          "name": "stdout"
        }
      ]
    },
    {
      "cell_type": "code",
      "metadata": {
        "id": "dxQbgzlyHC23",
        "colab_type": "code",
        "colab": {}
      },
      "source": [
        "# Compile Model\n",
        "\n",
        "model.compile(optimizer='adam',\n",
        "              loss='binary_crossentropy',\n",
        "              metrics=['accuracy'])"
      ],
      "execution_count": 0,
      "outputs": []
    },
    {
      "cell_type": "code",
      "metadata": {
        "id": "_T_udotvHC26",
        "colab_type": "code",
        "colab": {
          "base_uri": "https://localhost:8080/",
          "height": 1000
        },
        "outputId": "8ae04aac-96a8-42db-9c2f-d0bc709a3c61"
      },
      "source": [
        "# Fit Model\n",
        "\n",
        "custom = model.fit(train_data_gen,\n",
        "                   steps_per_epoch=total_train // batch_size,\n",
        "                   epochs=epochs,\n",
        "                   validation_data=val_data_gen,\n",
        "                   validation_steps=total_val // batch_size)"
      ],
      "execution_count": 35,
      "outputs": [
        {
          "output_type": "stream",
          "text": [
            "Epoch 1/50\n",
            "32/32 [==============================] - 9s 273ms/step - loss: 0.4034 - accuracy: 0.8762 - val_loss: 0.3088 - val_accuracy: 0.8807\n",
            "Epoch 2/50\n",
            "32/32 [==============================] - 9s 273ms/step - loss: 0.3185 - accuracy: 0.8663 - val_loss: 0.4108 - val_accuracy: 0.8409\n",
            "Epoch 3/50\n",
            "32/32 [==============================] - 9s 276ms/step - loss: 0.3346 - accuracy: 0.8463 - val_loss: 0.3250 - val_accuracy: 0.8864\n",
            "Epoch 4/50\n",
            "32/32 [==============================] - 9s 276ms/step - loss: 0.3032 - accuracy: 0.9002 - val_loss: 0.3262 - val_accuracy: 0.8636\n",
            "Epoch 5/50\n",
            "32/32 [==============================] - 9s 269ms/step - loss: 0.2250 - accuracy: 0.9002 - val_loss: 0.2356 - val_accuracy: 0.9205\n",
            "Epoch 6/50\n",
            "32/32 [==============================] - 9s 274ms/step - loss: 0.2156 - accuracy: 0.9202 - val_loss: 0.2954 - val_accuracy: 0.8636\n",
            "Epoch 7/50\n",
            "32/32 [==============================] - 9s 273ms/step - loss: 0.2404 - accuracy: 0.9062 - val_loss: 0.2909 - val_accuracy: 0.8750\n",
            "Epoch 8/50\n",
            "32/32 [==============================] - 9s 276ms/step - loss: 0.2089 - accuracy: 0.9222 - val_loss: 0.2273 - val_accuracy: 0.9091\n",
            "Epoch 9/50\n",
            "32/32 [==============================] - 9s 280ms/step - loss: 0.1782 - accuracy: 0.9341 - val_loss: 0.2418 - val_accuracy: 0.8920\n",
            "Epoch 10/50\n",
            "32/32 [==============================] - 9s 275ms/step - loss: 0.2109 - accuracy: 0.9142 - val_loss: 0.2655 - val_accuracy: 0.8920\n",
            "Epoch 11/50\n",
            "32/32 [==============================] - 9s 286ms/step - loss: 0.1711 - accuracy: 0.9395 - val_loss: 0.1926 - val_accuracy: 0.9205\n",
            "Epoch 12/50\n",
            "32/32 [==============================] - 9s 282ms/step - loss: 0.1721 - accuracy: 0.9341 - val_loss: 0.5262 - val_accuracy: 0.8068\n",
            "Epoch 13/50\n",
            "32/32 [==============================] - 9s 280ms/step - loss: 0.2097 - accuracy: 0.9162 - val_loss: 0.2279 - val_accuracy: 0.8920\n",
            "Epoch 14/50\n",
            "32/32 [==============================] - 9s 276ms/step - loss: 0.1986 - accuracy: 0.9261 - val_loss: 0.3429 - val_accuracy: 0.8409\n",
            "Epoch 15/50\n",
            "32/32 [==============================] - 9s 278ms/step - loss: 0.1956 - accuracy: 0.9341 - val_loss: 0.3039 - val_accuracy: 0.8750\n",
            "Epoch 16/50\n",
            "32/32 [==============================] - 9s 273ms/step - loss: 0.1741 - accuracy: 0.9321 - val_loss: 0.2172 - val_accuracy: 0.9034\n",
            "Epoch 17/50\n",
            "32/32 [==============================] - 9s 276ms/step - loss: 0.1736 - accuracy: 0.9281 - val_loss: 0.2149 - val_accuracy: 0.9205\n",
            "Epoch 18/50\n",
            "32/32 [==============================] - 9s 282ms/step - loss: 0.1997 - accuracy: 0.9082 - val_loss: 0.1960 - val_accuracy: 0.9205\n",
            "Epoch 19/50\n",
            "32/32 [==============================] - 9s 275ms/step - loss: 0.1357 - accuracy: 0.9501 - val_loss: 0.2040 - val_accuracy: 0.9205\n",
            "Epoch 20/50\n",
            "32/32 [==============================] - 9s 271ms/step - loss: 0.1384 - accuracy: 0.9401 - val_loss: 0.1653 - val_accuracy: 0.9318\n",
            "Epoch 21/50\n",
            "32/32 [==============================] - 9s 282ms/step - loss: 0.1460 - accuracy: 0.9361 - val_loss: 0.1978 - val_accuracy: 0.8977\n",
            "Epoch 22/50\n",
            "32/32 [==============================] - 9s 281ms/step - loss: 0.1846 - accuracy: 0.9281 - val_loss: 0.2738 - val_accuracy: 0.8750\n",
            "Epoch 23/50\n",
            "32/32 [==============================] - 9s 278ms/step - loss: 0.1975 - accuracy: 0.9062 - val_loss: 0.2419 - val_accuracy: 0.9091\n",
            "Epoch 24/50\n",
            "32/32 [==============================] - 9s 282ms/step - loss: 0.1484 - accuracy: 0.9461 - val_loss: 0.2456 - val_accuracy: 0.9034\n",
            "Epoch 25/50\n",
            "32/32 [==============================] - 9s 281ms/step - loss: 0.1283 - accuracy: 0.9541 - val_loss: 0.1911 - val_accuracy: 0.9091\n",
            "Epoch 26/50\n",
            "32/32 [==============================] - 9s 276ms/step - loss: 0.1331 - accuracy: 0.9521 - val_loss: 0.2102 - val_accuracy: 0.9034\n",
            "Epoch 27/50\n",
            "32/32 [==============================] - 9s 283ms/step - loss: 0.1804 - accuracy: 0.9401 - val_loss: 0.1551 - val_accuracy: 0.9375\n",
            "Epoch 28/50\n",
            "32/32 [==============================] - 9s 285ms/step - loss: 0.1544 - accuracy: 0.9401 - val_loss: 0.2161 - val_accuracy: 0.8977\n",
            "Epoch 29/50\n",
            "32/32 [==============================] - 9s 283ms/step - loss: 0.1386 - accuracy: 0.9481 - val_loss: 0.1881 - val_accuracy: 0.9148\n",
            "Epoch 30/50\n",
            "32/32 [==============================] - 9s 286ms/step - loss: 0.1250 - accuracy: 0.9561 - val_loss: 0.2851 - val_accuracy: 0.8693\n",
            "Epoch 31/50\n",
            "32/32 [==============================] - 9s 283ms/step - loss: 0.1034 - accuracy: 0.9581 - val_loss: 0.2420 - val_accuracy: 0.9205\n",
            "Epoch 32/50\n",
            "32/32 [==============================] - 9s 290ms/step - loss: 0.1742 - accuracy: 0.9512 - val_loss: 0.1820 - val_accuracy: 0.9261\n",
            "Epoch 33/50\n",
            "32/32 [==============================] - 9s 285ms/step - loss: 0.1563 - accuracy: 0.9361 - val_loss: 0.2035 - val_accuracy: 0.9205\n",
            "Epoch 34/50\n",
            "32/32 [==============================] - 9s 283ms/step - loss: 0.1691 - accuracy: 0.9441 - val_loss: 0.2221 - val_accuracy: 0.9318\n",
            "Epoch 35/50\n",
            "32/32 [==============================] - 9s 286ms/step - loss: 0.1415 - accuracy: 0.9421 - val_loss: 0.1899 - val_accuracy: 0.9148\n",
            "Epoch 36/50\n",
            "32/32 [==============================] - 9s 285ms/step - loss: 0.1183 - accuracy: 0.9521 - val_loss: 0.2815 - val_accuracy: 0.9091\n",
            "Epoch 37/50\n",
            "32/32 [==============================] - 9s 272ms/step - loss: 0.1388 - accuracy: 0.9561 - val_loss: 0.2830 - val_accuracy: 0.8864\n",
            "Epoch 38/50\n",
            "32/32 [==============================] - 9s 282ms/step - loss: 0.1049 - accuracy: 0.9621 - val_loss: 0.2422 - val_accuracy: 0.9148\n",
            "Epoch 39/50\n",
            "32/32 [==============================] - 9s 281ms/step - loss: 0.1255 - accuracy: 0.9541 - val_loss: 0.3143 - val_accuracy: 0.8750\n",
            "Epoch 40/50\n",
            "32/32 [==============================] - 9s 282ms/step - loss: 0.1881 - accuracy: 0.9301 - val_loss: 0.1563 - val_accuracy: 0.9375\n",
            "Epoch 41/50\n",
            "32/32 [==============================] - 9s 278ms/step - loss: 0.1072 - accuracy: 0.9641 - val_loss: 0.2685 - val_accuracy: 0.8920\n",
            "Epoch 42/50\n",
            "32/32 [==============================] - 9s 280ms/step - loss: 0.1195 - accuracy: 0.9521 - val_loss: 0.1755 - val_accuracy: 0.9375\n",
            "Epoch 43/50\n",
            "32/32 [==============================] - 9s 277ms/step - loss: 0.1065 - accuracy: 0.9541 - val_loss: 0.2011 - val_accuracy: 0.9091\n",
            "Epoch 44/50\n",
            "32/32 [==============================] - 9s 278ms/step - loss: 0.0919 - accuracy: 0.9681 - val_loss: 0.2574 - val_accuracy: 0.9261\n",
            "Epoch 45/50\n",
            "32/32 [==============================] - 9s 281ms/step - loss: 0.0998 - accuracy: 0.9621 - val_loss: 0.2151 - val_accuracy: 0.9205\n",
            "Epoch 46/50\n",
            "32/32 [==============================] - 9s 276ms/step - loss: 0.1167 - accuracy: 0.9501 - val_loss: 0.2260 - val_accuracy: 0.9261\n",
            "Epoch 47/50\n",
            "32/32 [==============================] - 9s 280ms/step - loss: 0.1271 - accuracy: 0.9441 - val_loss: 0.4247 - val_accuracy: 0.8352\n",
            "Epoch 48/50\n",
            "32/32 [==============================] - 9s 276ms/step - loss: 0.1439 - accuracy: 0.9441 - val_loss: 0.2008 - val_accuracy: 0.9091\n",
            "Epoch 49/50\n",
            "32/32 [==============================] - 9s 270ms/step - loss: 0.0954 - accuracy: 0.9581 - val_loss: 0.4390 - val_accuracy: 0.8807\n",
            "Epoch 50/50\n",
            "32/32 [==============================] - 9s 273ms/step - loss: 0.1150 - accuracy: 0.9521 - val_loss: 0.3496 - val_accuracy: 0.8636\n"
          ],
          "name": "stdout"
        }
      ]
    },
    {
      "cell_type": "code",
      "metadata": {
        "id": "m5zRWyiZbJTy",
        "colab_type": "code",
        "colab": {
          "base_uri": "https://localhost:8080/",
          "height": 295
        },
        "outputId": "19ce83c2-2ff6-42d1-f2c9-0e590281c3b7"
      },
      "source": [
        "\n",
        "import matplotlib.pyplot as plt\n",
        "\n",
        "# Plot training & validation accuracy values\n",
        "plt.plot(custom.history['accuracy'])\n",
        "plt.plot(custom.history['val_accuracy'])\n",
        "plt.title('Model Accuracy')\n",
        "plt.ylabel('Accuracy')\n",
        "plt.xlabel('Epoch')\n",
        "plt.legend(['Train', 'Validation'], loc='upper left')\n",
        "plt.show();\n",
        "\n",
        "\n",
        "\n"
      ],
      "execution_count": 43,
      "outputs": [
        {
          "output_type": "display_data",
          "data": {
            "image/png": "[encoded data removed]",
            "text/plain": [
              "<Figure size 432x288 with 1 Axes>"
            ]
          },
          "metadata": {
            "tags": [],
            "needs_background": "light"
          }
        }
      ]
    },
    {
      "cell_type": "markdown",
      "metadata": {
        "id": "GOSVxEBWHC29",
        "colab_type": "text"
      },
      "source": [
        "# Custom CNN Model with Image Manipulations\n",
        "\n",
        "To simulate an increase in a sample of image, you can apply image manipulation techniques: cropping, rotation, stretching, etc. Luckily Keras has some handy functions for us to apply these techniques to our mountain and forest example. Simply, you should be able to modify our image generator for the problem. Check out these resources to help you get started: \n",
        "\n",
        "1. [Keras `ImageGenerator` Class](https://keras.io/preprocessing/image/#imagedatagenerator-class)\n",
        "2. [Building a powerful image classifier with very little data](https://blog.keras.io/building-powerful-image-classification-models-using-very-little-data.html)\n",
        " "
      ]
    },
    {
      "cell_type": "code",
      "metadata": {
        "id": "bBbZuK-OHC2-",
        "colab_type": "code",
        "colab": {
          "base_uri": "https://localhost:8080/",
          "height": 51
        },
        "outputId": "a54fb6be-6ae3-4777-bddc-50de1d10492f"
      },
      "source": [
        "train_image_generator = ImageDataGenerator(rotation_range=40,\n",
        "                                           width_shift_range=0.25,\n",
        "                                           height_shift_range=0.25,\n",
        "                                           rescale=1./255,\n",
        "                                           shear_range=0.15,\n",
        "                                           zoom_range=0.3,\n",
        "                                           horizontal_flip=True,\n",
        "                                           fill_mode='nearest') # Generator for our training data\n",
        "\n",
        "validation_image_generator = ImageDataGenerator(rotation_range=40,\n",
        "                                                width_shift_range=0.25,\n",
        "                                                height_shift_range=0.25,\n",
        "                                                rescale=1./255,\n",
        "                                                shear_range=0.15,\n",
        "                                                zoom_range=0.3,\n",
        "                                                horizontal_flip=True,\n",
        "                                                fill_mode='nearest') # Generator for our validation data\n",
        "\n",
        "train_data_gen = train_image_generator.flow_from_directory(batch_size=batch_size,\n",
        "                                                           directory=train_dir,\n",
        "                                                           shuffle=True,\n",
        "                                                           target_size=(IMG_HEIGHT, IMG_WIDTH),\n",
        "                                                           class_mode='binary')\n",
        "\n",
        "val_data_gen = validation_image_generator.flow_from_directory(batch_size=batch_size,\n",
        "                                                              directory=validation_dir,\n",
        "                                                              target_size=(IMG_HEIGHT, IMG_WIDTH),\n",
        "                                                              class_mode='binary')"
      ],
      "execution_count": 37,
      "outputs": [
        {
          "output_type": "stream",
          "text": [
            "Found 533 images belonging to 2 classes.\n",
            "Found 195 images belonging to 2 classes.\n"
          ],
          "name": "stdout"
        }
      ]
    },
    {
      "cell_type": "code",
      "metadata": {
        "id": "JhZtYkPufOLS",
        "colab_type": "code",
        "colab": {
          "base_uri": "https://localhost:8080/",
          "height": 425
        },
        "outputId": "28fb4307-4c9d-4c16-d9c9-f60ec8f784f7"
      },
      "source": [
        "# Define the Model\n",
        "\n",
        "model = Sequential([\n",
        "    Conv2D(224, (3,3), activation='relu', input_shape=(IMG_HEIGHT, IMG_WIDTH,3)),\n",
        "    MaxPooling2D((2,2)),\n",
        "    Conv2D(64, (3,3), activation='relu'),\n",
        "    MaxPooling2D((2,2)),\n",
        "    Conv2D(64, (3,3), activation='relu'),\n",
        "    Flatten(),\n",
        "    Dense(64, activation='relu'),\n",
        "    Dense(1, activation='sigmoid'),\n",
        "])\n",
        "\n",
        "model.summary()"
      ],
      "execution_count": 38,
      "outputs": [
        {
          "output_type": "stream",
          "text": [
            "Model: \"sequential_5\"\n",
            "_________________________________________________________________\n",
            "Layer (type)                 Output Shape              Param #   \n",
            "=================================================================\n",
            "conv2d_15 (Conv2D)           (None, 222, 222, 224)     6272      \n",
            "_________________________________________________________________\n",
            "max_pooling2d_10 (MaxPooling (None, 111, 111, 224)     0         \n",
            "_________________________________________________________________\n",
            "conv2d_16 (Conv2D)           (None, 109, 109, 64)      129088    \n",
            "_________________________________________________________________\n",
            "max_pooling2d_11 (MaxPooling (None, 54, 54, 64)        0         \n",
            "_________________________________________________________________\n",
            "conv2d_17 (Conv2D)           (None, 52, 52, 64)        36928     \n",
            "_________________________________________________________________\n",
            "flatten_5 (Flatten)          (None, 173056)            0         \n",
            "_________________________________________________________________\n",
            "dense_12 (Dense)             (None, 64)                11075648  \n",
            "_________________________________________________________________\n",
            "dense_13 (Dense)             (None, 1)                 65        \n",
            "=================================================================\n",
            "Total params: 11,248,001\n",
            "Trainable params: 11,248,001\n",
            "Non-trainable params: 0\n",
            "_________________________________________________________________\n"
          ],
          "name": "stdout"
        }
      ]
    },
    {
      "cell_type": "code",
      "metadata": {
        "id": "ne7XnZ84fOZc",
        "colab_type": "code",
        "colab": {}
      },
      "source": [
        "# compile\n",
        "model.compile(optimizer='adam',\n",
        "              loss=\"binary_crossentropy\",\n",
        "              metrics=['accuracy'])"
      ],
      "execution_count": 0,
      "outputs": []
    },
    {
      "cell_type": "code",
      "metadata": {
        "id": "fcKb1hzkfbJa",
        "colab_type": "code",
        "colab": {
          "base_uri": "https://localhost:8080/",
          "height": 1000
        },
        "outputId": "47ea7fbc-81ed-4216-fd7f-78756d6cefba"
      },
      "source": [
        "\n",
        "# Fit Model\n",
        "\n",
        "manipulated = model.fit(train_data_gen,\n",
        "                   steps_per_epoch=total_train // batch_size,\n",
        "                   epochs=epochs,\n",
        "                   validation_data=val_data_gen,\n",
        "                   validation_steps=total_val // batch_size)"
      ],
      "execution_count": 41,
      "outputs": [
        {
          "output_type": "stream",
          "text": [
            "Epoch 1/50\n",
            "32/32 [==============================] - 10s 315ms/step - loss: 0.6681 - accuracy: 0.6986 - val_loss: 0.2943 - val_accuracy: 0.8920\n",
            "Epoch 2/50\n",
            "32/32 [==============================] - 10s 311ms/step - loss: 0.3535 - accuracy: 0.8583 - val_loss: 0.3122 - val_accuracy: 0.8864\n",
            "Epoch 3/50\n",
            "32/32 [==============================] - 10s 316ms/step - loss: 0.3131 - accuracy: 0.8523 - val_loss: 0.2839 - val_accuracy: 0.8864\n",
            "Epoch 4/50\n",
            "32/32 [==============================] - 10s 320ms/step - loss: 0.2558 - accuracy: 0.8982 - val_loss: 0.2761 - val_accuracy: 0.8864\n",
            "Epoch 5/50\n",
            "32/32 [==============================] - 10s 315ms/step - loss: 0.3010 - accuracy: 0.8723 - val_loss: 0.3082 - val_accuracy: 0.8636\n",
            "Epoch 6/50\n",
            "32/32 [==============================] - 10s 317ms/step - loss: 0.2725 - accuracy: 0.8782 - val_loss: 0.2308 - val_accuracy: 0.9091\n",
            "Epoch 7/50\n",
            "32/32 [==============================] - 10s 317ms/step - loss: 0.2593 - accuracy: 0.8982 - val_loss: 0.2419 - val_accuracy: 0.9034\n",
            "Epoch 8/50\n",
            "32/32 [==============================] - 10s 316ms/step - loss: 0.2425 - accuracy: 0.8962 - val_loss: 0.2404 - val_accuracy: 0.9034\n",
            "Epoch 9/50\n",
            "32/32 [==============================] - 10s 316ms/step - loss: 0.2444 - accuracy: 0.9162 - val_loss: 0.2361 - val_accuracy: 0.8920\n",
            "Epoch 10/50\n",
            "32/32 [==============================] - 10s 324ms/step - loss: 0.2230 - accuracy: 0.9162 - val_loss: 0.2738 - val_accuracy: 0.8977\n",
            "Epoch 11/50\n",
            "32/32 [==============================] - 10s 326ms/step - loss: 0.2494 - accuracy: 0.8982 - val_loss: 0.1807 - val_accuracy: 0.9261\n",
            "Epoch 12/50\n",
            "32/32 [==============================] - 10s 323ms/step - loss: 0.2467 - accuracy: 0.8906 - val_loss: 0.2067 - val_accuracy: 0.9091\n",
            "Epoch 13/50\n",
            "32/32 [==============================] - 10s 325ms/step - loss: 0.2113 - accuracy: 0.9142 - val_loss: 0.2515 - val_accuracy: 0.8807\n",
            "Epoch 14/50\n",
            "32/32 [==============================] - 10s 325ms/step - loss: 0.1876 - accuracy: 0.9301 - val_loss: 0.2079 - val_accuracy: 0.9205\n",
            "Epoch 15/50\n",
            "32/32 [==============================] - 10s 323ms/step - loss: 0.2068 - accuracy: 0.9142 - val_loss: 0.3562 - val_accuracy: 0.8182\n",
            "Epoch 16/50\n",
            "32/32 [==============================] - 10s 321ms/step - loss: 0.2091 - accuracy: 0.9162 - val_loss: 0.2697 - val_accuracy: 0.8523\n",
            "Epoch 17/50\n",
            "32/32 [==============================] - 10s 318ms/step - loss: 0.1964 - accuracy: 0.9162 - val_loss: 0.2954 - val_accuracy: 0.9091\n",
            "Epoch 18/50\n",
            "32/32 [==============================] - 10s 319ms/step - loss: 0.2679 - accuracy: 0.8902 - val_loss: 0.2455 - val_accuracy: 0.8864\n",
            "Epoch 19/50\n",
            "32/32 [==============================] - 10s 324ms/step - loss: 0.2094 - accuracy: 0.9102 - val_loss: 0.3274 - val_accuracy: 0.8466\n",
            "Epoch 20/50\n",
            "32/32 [==============================] - 10s 320ms/step - loss: 0.2031 - accuracy: 0.9182 - val_loss: 0.1967 - val_accuracy: 0.9148\n",
            "Epoch 21/50\n",
            "32/32 [==============================] - 10s 318ms/step - loss: 0.1823 - accuracy: 0.9421 - val_loss: 0.1350 - val_accuracy: 0.9318\n",
            "Epoch 22/50\n",
            "32/32 [==============================] - 10s 323ms/step - loss: 0.1842 - accuracy: 0.9238 - val_loss: 0.1900 - val_accuracy: 0.9034\n",
            "Epoch 23/50\n",
            "32/32 [==============================] - 10s 315ms/step - loss: 0.1896 - accuracy: 0.9361 - val_loss: 0.2429 - val_accuracy: 0.8807\n",
            "Epoch 24/50\n",
            "32/32 [==============================] - 10s 315ms/step - loss: 0.1931 - accuracy: 0.9281 - val_loss: 0.4739 - val_accuracy: 0.8068\n",
            "Epoch 25/50\n",
            "32/32 [==============================] - 10s 314ms/step - loss: 0.3110 - accuracy: 0.8683 - val_loss: 0.1927 - val_accuracy: 0.9489\n",
            "Epoch 26/50\n",
            "32/32 [==============================] - 10s 316ms/step - loss: 0.2344 - accuracy: 0.9062 - val_loss: 0.2003 - val_accuracy: 0.9205\n",
            "Epoch 27/50\n",
            "32/32 [==============================] - 10s 319ms/step - loss: 0.2256 - accuracy: 0.8962 - val_loss: 0.2335 - val_accuracy: 0.9148\n",
            "Epoch 28/50\n",
            "32/32 [==============================] - 10s 314ms/step - loss: 0.1814 - accuracy: 0.9242 - val_loss: 0.3710 - val_accuracy: 0.8409\n",
            "Epoch 29/50\n",
            "32/32 [==============================] - 10s 318ms/step - loss: 0.1878 - accuracy: 0.9160 - val_loss: 0.2472 - val_accuracy: 0.8920\n",
            "Epoch 30/50\n",
            "32/32 [==============================] - 10s 312ms/step - loss: 0.1743 - accuracy: 0.9261 - val_loss: 0.2680 - val_accuracy: 0.8750\n",
            "Epoch 31/50\n",
            "32/32 [==============================] - 10s 311ms/step - loss: 0.1734 - accuracy: 0.9102 - val_loss: 0.1642 - val_accuracy: 0.9375\n",
            "Epoch 32/50\n",
            "32/32 [==============================] - 10s 316ms/step - loss: 0.1767 - accuracy: 0.9401 - val_loss: 0.2570 - val_accuracy: 0.9034\n",
            "Epoch 33/50\n",
            "32/32 [==============================] - 10s 316ms/step - loss: 0.1702 - accuracy: 0.9381 - val_loss: 0.2477 - val_accuracy: 0.9148\n",
            "Epoch 34/50\n",
            "32/32 [==============================] - 10s 316ms/step - loss: 0.1923 - accuracy: 0.9122 - val_loss: 0.3144 - val_accuracy: 0.8864\n",
            "Epoch 35/50\n",
            "32/32 [==============================] - 10s 316ms/step - loss: 0.1765 - accuracy: 0.9341 - val_loss: 0.2278 - val_accuracy: 0.8920\n",
            "Epoch 36/50\n",
            "32/32 [==============================] - 10s 312ms/step - loss: 0.1687 - accuracy: 0.9281 - val_loss: 0.3833 - val_accuracy: 0.8295\n",
            "Epoch 37/50\n",
            "32/32 [==============================] - 10s 309ms/step - loss: 0.2132 - accuracy: 0.9122 - val_loss: 0.2256 - val_accuracy: 0.8920\n",
            "Epoch 38/50\n",
            "32/32 [==============================] - 10s 313ms/step - loss: 0.1860 - accuracy: 0.9261 - val_loss: 0.1653 - val_accuracy: 0.9375\n",
            "Epoch 39/50\n",
            "32/32 [==============================] - 10s 315ms/step - loss: 0.1811 - accuracy: 0.9321 - val_loss: 0.1899 - val_accuracy: 0.9148\n",
            "Epoch 40/50\n",
            "32/32 [==============================] - 10s 321ms/step - loss: 0.1564 - accuracy: 0.9361 - val_loss: 0.2852 - val_accuracy: 0.8920\n",
            "Epoch 41/50\n",
            "32/32 [==============================] - 10s 311ms/step - loss: 0.1689 - accuracy: 0.9341 - val_loss: 0.2294 - val_accuracy: 0.9034\n",
            "Epoch 42/50\n",
            "32/32 [==============================] - 10s 316ms/step - loss: 0.1633 - accuracy: 0.9355 - val_loss: 0.3007 - val_accuracy: 0.8523\n",
            "Epoch 43/50\n",
            "32/32 [==============================] - 10s 313ms/step - loss: 0.1778 - accuracy: 0.9341 - val_loss: 0.2664 - val_accuracy: 0.8807\n",
            "Epoch 44/50\n",
            "32/32 [==============================] - 10s 314ms/step - loss: 0.1947 - accuracy: 0.9142 - val_loss: 0.3516 - val_accuracy: 0.8636\n",
            "Epoch 45/50\n",
            "32/32 [==============================] - 10s 323ms/step - loss: 0.2265 - accuracy: 0.9022 - val_loss: 0.2617 - val_accuracy: 0.8920\n",
            "Epoch 46/50\n",
            "32/32 [==============================] - 10s 316ms/step - loss: 0.1685 - accuracy: 0.9361 - val_loss: 0.2699 - val_accuracy: 0.8750\n",
            "Epoch 47/50\n",
            "32/32 [==============================] - 10s 314ms/step - loss: 0.1998 - accuracy: 0.9122 - val_loss: 0.2276 - val_accuracy: 0.9034\n",
            "Epoch 48/50\n",
            "32/32 [==============================] - 10s 310ms/step - loss: 0.1606 - accuracy: 0.9401 - val_loss: 0.1911 - val_accuracy: 0.9034\n",
            "Epoch 49/50\n",
            "32/32 [==============================] - 10s 314ms/step - loss: 0.1385 - accuracy: 0.9541 - val_loss: 0.4181 - val_accuracy: 0.8580\n",
            "Epoch 50/50\n",
            "32/32 [==============================] - 10s 321ms/step - loss: 0.1640 - accuracy: 0.9361 - val_loss: 0.4664 - val_accuracy: 0.8239\n"
          ],
          "name": "stdout"
        }
      ]
    },
    {
      "cell_type": "code",
      "metadata": {
        "id": "KCA6TKR2fbb3",
        "colab_type": "code",
        "colab": {
          "base_uri": "https://localhost:8080/",
          "height": 295
        },
        "outputId": "f859d496-e12d-44cf-b5d3-2aa297676b60"
      },
      "source": [
        "\n",
        "# Plot training & validation accuracy values\n",
        "plt.plot(manipulated.history['accuracy'])\n",
        "plt.plot(manipulated.history['val_accuracy'])\n",
        "plt.title('Model Accuracy')\n",
        "plt.ylabel('Accuracy')\n",
        "plt.xlabel('Epoch')\n",
        "plt.legend(['Train', 'Validation'], loc='lower right')\n",
        "plt.show();"
      ],
      "execution_count": 45,
      "outputs": [
        {
          "output_type": "display_data",
          "data": {
            "image/png": "[encoded data removed]",
            "text/plain": [
              "<Figure size 432x288 with 1 Axes>"
            ]
          },
          "metadata": {
            "tags": [],
            "needs_background": "light"
          }
        }
      ]
    },
    {
      "cell_type": "code",
      "metadata": {
        "id": "AeZWtjAgfbzG",
        "colab_type": "code",
        "colab": {}
      },
      "source": [
        ""
      ],
      "execution_count": 0,
      "outputs": []
    },
    {
      "cell_type": "markdown",
      "metadata": {
        "colab_type": "text",
        "id": "uT3UV3gap9H6"
      },
      "source": [
        "# Resources and Stretch Goals\n",
        "\n",
        "Stretch goals\n",
        "- Enhance your code to use classes/functions and accept terms to search and classes to look for in recognizing the downloaded images (e.g. download images of parties, recognize all that contain balloons)\n",
        "- Check out [other available pretrained networks](https://tfhub.dev), try some and compare\n",
        "- Image recognition/classification is somewhat solved, but *relationships* between entities and describing an image is not - check out some of the extended resources (e.g. [Visual Genome](https://visualgenome.org/)) on the topic\n",
        "- Transfer learning - using images you source yourself, [retrain a classifier](https://www.tensorflow.org/hub/tutorials/image_retraining) with a new category\n",
        "- (Not CNN related) Use [piexif](https://pypi.org/project/piexif/) to check out the metadata of images passed in to your system - see if they're from a national park! (Note - many images lack GPS metadata, so this won't work in most cases, but still cool)\n",
        "\n",
        "Resources\n",
        "- [Deep Residual Learning for Image Recognition](https://arxiv.org/abs/1512.03385) - influential paper (introduced ResNet)\n",
        "- [YOLO: Real-Time Object Detection](https://pjreddie.com/darknet/yolo/) - an influential convolution based object detection system, focused on inference speed (for applications to e.g. self driving vehicles)\n",
        "- [R-CNN, Fast R-CNN, Faster R-CNN, YOLO](https://towardsdatascience.com/r-cnn-fast-r-cnn-faster-r-cnn-yolo-object-detection-algorithms-36d53571365e) - comparison of object detection systems\n",
        "- [Common Objects in Context](http://cocodataset.org/) - a large-scale object detection, segmentation, and captioning dataset\n",
        "- [Visual Genome](https://visualgenome.org/) - a dataset, a knowledge base, an ongoing effort to connect structured image concepts to language"
      ]
    }
  ]
}